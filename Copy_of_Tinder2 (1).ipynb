{
  "nbformat": 4,
  "nbformat_minor": 0,
  "metadata": {
    "colab": {
      "name": "Copy of Tinder2.ipynb",
      "provenance": [],
      "collapsed_sections": []
    },
    "kernelspec": {
      "name": "python3",
      "display_name": "Python 3"
    },
    "language_info": {
      "name": "python"
    }
  },
  "cells": [
    {
      "cell_type": "code",
      "metadata": {
        "id": "HpOIc-mH3OYB"
      },
      "source": [
        "import firebase_admin\n"
      ],
      "execution_count": null,
      "outputs": []
    },
    {
      "cell_type": "code",
      "metadata": {
        "id": "aI9Z3qqFAnau"
      },
      "source": [
        "from firebase_admin import credentials , auth, firestore, storage"
      ],
      "execution_count": null,
      "outputs": []
    },
    {
      "cell_type": "code",
      "metadata": {
        "id": "DbwHfApPJU32"
      },
      "source": [
        "\n",
        "import firebase_admin\n",
        "from firebase_admin import credentials\n",
        "\n",
        "cred = credentials.Certificate(\"/content/tinder-letsupgrade-468b9-firebase-adminsdk-gy8vo-11327007d2.json\")\n",
        "firebase_app = firebase_admin.initialize_app(cred)\n",
        "\n",
        "store = firestore.client()"
      ],
      "execution_count": null,
      "outputs": []
    },
    {
      "cell_type": "code",
      "metadata": {
        "colab": {
          "base_uri": "https://localhost:8080/"
        },
        "id": "e4LvqOzYJb7S",
        "outputId": "b48efa94-960f-4b53-bde9-4c56aee2d087"
      },
      "source": [
        "user = auth.create_user(\n",
        "    email='suwarnabaraskar@gmail.com',\n",
        "    email_verified=False,\n",
        "    password='123456')\n",
        "print('Sucessfully created new user: {0}'.format(user.uid))"
      ],
      "execution_count": null,
      "outputs": [
        {
          "output_type": "stream",
          "text": [
            "Sucessfully created new user: qn3WVQKlBzcE2dm7KsJdg1chQF23\n"
          ],
          "name": "stdout"
        }
      ]
    },
    {
      "cell_type": "code",
      "metadata": {
        "colab": {
          "base_uri": "https://localhost:8080/"
        },
        "id": "P9PX_JqOLbXG",
        "outputId": "6bc90b52-ae09-4421-f915-b946e7bdafd9"
      },
      "source": [
        "# User Signup\n",
        "try:\n",
        "   user = auth.create_user(\n",
        "    email='suwarnabaraskar@gmail.com',\n",
        "    email_verified=False,\n",
        "    password='123456')\n",
        "   print('Sucessfully created new user: {0}'.format(user.uid))\n",
        "except:\n",
        "  print('User already There!!')\n"
      ],
      "execution_count": null,
      "outputs": [
        {
          "output_type": "stream",
          "text": [
            "User already There!!\n"
          ],
          "name": "stdout"
        }
      ]
    },
    {
      "cell_type": "code",
      "metadata": {
        "colab": {
          "base_uri": "https://localhost:8080/"
        },
        "id": "9tIAqmkPYqI5",
        "outputId": "412fa9ff-e429-4e7c-88ce-f1c840536568"
      },
      "source": [
        "# User Login\n",
        "try:\n",
        "  user = auth.get_user_by_email(\"suwarnabaraskar@gmail.com\")\n",
        "  print(user.uid)\n",
        "except:\n",
        "  print(\"Error No User Found\")\n",
        "\n"
      ],
      "execution_count": null,
      "outputs": [
        {
          "output_type": "stream",
          "text": [
            "qn3WVQKlBzcE2dm7KsJdg1chQF23\n"
          ],
          "name": "stdout"
        }
      ]
    },
    {
      "cell_type": "code",
      "metadata": {
        "id": "WbatNubLcKeM"
      },
      "source": [
        "def signup(emailofuser,passwordofuser):\n",
        "  uid = \"\"\n",
        "  message = \"\"\n",
        "  try:\n",
        "   user = auth.create_user(\n",
        "    email='suwarnabaraskar@gmail.com',\n",
        "    email_verified=False,\n",
        "    password='123456')\n",
        "   message = \"Sucessfully created new user\"\n",
        "   uid = user.uid\n",
        "  except:\n",
        "   message = \"User Already There\"\n",
        " \n",
        "   return {\"uid\": uid, \"message\": message}\n",
        "\n"
      ],
      "execution_count": null,
      "outputs": []
    },
    {
      "cell_type": "code",
      "metadata": {
        "colab": {
          "base_uri": "https://localhost:8080/"
        },
        "id": "xqxRn_ZugCMz",
        "outputId": "f74ec05e-018f-4cba-a061-e4995bac5a86"
      },
      "source": [
        "signup(\"suwarnabaraskar@gmail.com\",\"123456\")"
      ],
      "execution_count": null,
      "outputs": [
        {
          "output_type": "execute_result",
          "data": {
            "text/plain": [
              "{'message': 'User Already There', 'uid': ''}"
            ]
          },
          "metadata": {
            "tags": []
          },
          "execution_count": 25
        }
      ]
    },
    {
      "cell_type": "code",
      "metadata": {
        "id": "NZx4ytPphk9N"
      },
      "source": [
        "def login(emailofuser,passwordofuser):\n",
        "  uid = \"\"\n",
        "  message = \"\"\n",
        "  try:\n",
        "   user = auth.get_user_by_email(emailofuser)\n",
        "   message = \"Sucessfully created new user\"\n",
        "   uid = user.uid\n",
        "  except:\n",
        "    message = \"User Not There in Firebase!!\"\n",
        " \n",
        "  return {\"uid\":uid, \"message\": message}"
      ],
      "execution_count": null,
      "outputs": []
    },
    {
      "cell_type": "code",
      "metadata": {
        "colab": {
          "base_uri": "https://localhost:8080/"
        },
        "id": "VH2Rsln2m-ba",
        "outputId": "252f66a3-dc3c-4dc1-868c-8ac6a89968a6"
      },
      "source": [
        "login(\"suwarnabaraskar@gmail.com\",\"123456\")"
      ],
      "execution_count": null,
      "outputs": [
        {
          "output_type": "execute_result",
          "data": {
            "text/plain": [
              "{'message': 'User Not There in Firebase!!', 'uid': ''}"
            ]
          },
          "metadata": {
            "tags": []
          },
          "execution_count": 29
        }
      ]
    },
    {
      "cell_type": "code",
      "metadata": {
        "id": "8cdVerwLloiO"
      },
      "source": [
        "def updateuserdata(uid,dit):\n",
        "    dit_user_details = {}\n",
        "    dit_user_details['name'] = dit[\"name\"]\n",
        "    dit_user_details['number'] = dit[\"number\"]\n",
        "    dit_user_details['image'] = dit[\"image\"]\n",
        "    dit_user_details['desp'] = dit[\"desp\"]\n",
        "\n",
        "    dit_user_details['dob'] = dit[\"dob\"]\n",
        "    dit_user_details['gender'] = dit[\"gender\"]\n",
        "    dit_user_details['passion'] = dit[\"passion\"]\n",
        "    dit_user_details['job'] = dit[\"job\"]\n",
        "    dit_user_details['emai'] = dit[\"email\"]\n",
        "    dit_user_details['company'] = dit[\"company\"]\n",
        "\n",
        "    dit_user_details['location'] = dit[\"location\"]\n",
        "\n",
        "    store.collection(\"users\").document(uid).set(dit_user_details)"
      ],
      "execution_count": null,
      "outputs": []
    },
    {
      "cell_type": "code",
      "metadata": {
        "id": "vqKjuASr1IgP"
      },
      "source": [
        "dit ={}\n",
        "\n",
        "dit[\"name\"] = \"Suwarna\"\n",
        "dit[\"number\"] = \"8954263136\"\n",
        "dit[\"image\"] = \"https://firebasestorage.googleapis.com/v0/b/tinder-letsupgrade-468b9.appspot.com/o/Capture.PNG?alt=media&token=f3279022-7cda-4a1e-93e9-8c84f459c80e\"\n",
        "dit[\"desp\"] = \"Single\"\n",
        "dit[\"location\"] = {\"coordinate\":{\"lat\": 27.2046, \"lng\":77.4977},\n",
        "                   \"city\": \"Nagpur\",\n",
        "                   \"state\": \"Maharashtra\",\n",
        "                   \"country\": \"India\"}\n",
        "dit[\"dob\"] = \"01/08/1970\"\n",
        "dit[\"gender\"] = \"Female\"\n",
        "dit[\"passion\"] = \"Teaching\"\n",
        "dit[\"job\"] = \"Teaching\"\n",
        "dit[\"email\"] = \"suwarnabaraskar@gmail.com\"\n",
        "dit[\"company\"] = \"Govt college\"               \n",
        "\n"
      ],
      "execution_count": null,
      "outputs": []
    },
    {
      "cell_type": "code",
      "metadata": {
        "id": "th9novdp6Hkp"
      },
      "source": [
        "updateuserdata(\"qn3WVQKlBzcE2dm7KsJdg1chQF23\",dit)"
      ],
      "execution_count": null,
      "outputs": []
    },
    {
      "cell_type": "code",
      "metadata": {
        "id": "qzyLIxIK6f0x"
      },
      "source": [
        "def getfeed(country):\n",
        "   docs = store.collection(\"users\").stream()\n",
        "\n",
        "   dit = {}\n",
        "   for doc in docs:\n",
        "       if doc.to_dict().get(\"location\").get(\"country\") == country:\n",
        "         dit[doc.id] = doc.to_dict()\n",
        "   return dit\n"
      ],
      "execution_count": null,
      "outputs": []
    },
    {
      "cell_type": "code",
      "metadata": {
        "id": "b09Y8iwfO0XZ"
      },
      "source": [
        "allprofiles = getfeed(\"India\")"
      ],
      "execution_count": null,
      "outputs": []
    },
    {
      "cell_type": "code",
      "metadata": {
        "colab": {
          "base_uri": "https://localhost:8080/"
        },
        "id": "LQvF4iagO_EE",
        "outputId": "a2eeea3d-1d41-428a-b740-aa2f89a398a0"
      },
      "source": [
        "allprofiles"
      ],
      "execution_count": null,
      "outputs": [
        {
          "output_type": "execute_result",
          "data": {
            "text/plain": [
              "{'qn3WVQKlBzcE2dm7KsJdg1chQF23': {'company': 'Govt college',\n",
              "  'desp': 'Single',\n",
              "  'dob': '01/08/1970',\n",
              "  'emai': 'suwarnabaraskar@gmail.com',\n",
              "  'gender': 'Female',\n",
              "  'image': 'https://firebasestorage.googleapis.com/v0/b/tinder-letsupgrade-468b9.appspot.com/o/Capture.PNG?alt=media&token=f3279022-7cda-4a1e-93e9-8c84f459c80e',\n",
              "  'job': 'Teaching',\n",
              "  'location': {'city': 'Nagpur',\n",
              "   'coordinate': {'lat': 27.2046, 'lng': 77.4977},\n",
              "   'country': 'India',\n",
              "   'state': 'Maharashtra'},\n",
              "  'name': 'Suwarna',\n",
              "  'number': '8954263136',\n",
              "  'passion': 'Teaching'}}"
            ]
          },
          "metadata": {
            "tags": []
          },
          "execution_count": 68
        }
      ]
    },
    {
      "cell_type": "code",
      "metadata": {
        "id": "r093FMcmPJQr"
      },
      "source": [
        "def swipeFun(uidA,uidB,isA_yes,isB_yes):\n",
        "     dit = {}\n",
        "\n",
        "     dit[\"uid_A\"] = uidA\n",
        "     dit[\"uid_B\"] = uidB\n",
        "     dit[\"isuserA_yes\"] = isA_yes\n",
        "     dit[\"isuserB_yes\"] = isB_yes\n",
        "     dit[\"istheotherusershownprofileatleastonce\"] = firstTime\n",
        "     dit[\"createdAt\"] = firestore.SERVER_TIMESTAMP\n",
        "\n",
        "     store.collection(\"swipes\").add(dit)\n",
        "\n",
        " "
      ],
      "execution_count": null,
      "outputs": []
    },
    {
      "cell_type": "code",
      "metadata": {
        "id": "bEqnFcL3VFUH"
      },
      "source": [
        "uidA = \"qn3WVQKlBzcE2dm7KsJdg1chQF23\"\n",
        "uidB = \"qn3WVQKlBzcE2dm7KsJdg1chQF52\"\n",
        "isA_yes = True\n",
        "isB_yes = False\n",
        "\n",
        "firstTime = False\n",
        "\n",
        "swipeFun(uidA,uidB,isA_yes,isB_yes)\n"
      ],
      "execution_count": null,
      "outputs": []
    },
    {
      "cell_type": "code",
      "metadata": {
        "id": "rFNDpDRgX7KC"
      },
      "source": [
        "def MatchFun(uid):\n",
        "\n",
        "    docs = store.collection(\"swipes\").stream()\n",
        "\n",
        "    ditswipes = {}\n",
        "    for doc in docs:\n",
        "\n",
        "     if doc.to_dict().get(\"uid_A\") == uid or doc.to_dict().get(\"uid_B\") == uid)\n",
        "        ditswipes[doc.id] = doc.to_dict()\n",
        "\n",
        "    return ditswipes"
      ],
      "execution_count": null,
      "outputs": []
    },
    {
      "cell_type": "code",
      "metadata": {
        "id": "unUSDgmEdv3M"
      },
      "source": [
        "GETMatchFun(\"qn3WVQKlBzcE2dm7KsJdg1chQF23\")"
      ],
      "execution_count": null,
      "outputs": []
    }
  ]
}